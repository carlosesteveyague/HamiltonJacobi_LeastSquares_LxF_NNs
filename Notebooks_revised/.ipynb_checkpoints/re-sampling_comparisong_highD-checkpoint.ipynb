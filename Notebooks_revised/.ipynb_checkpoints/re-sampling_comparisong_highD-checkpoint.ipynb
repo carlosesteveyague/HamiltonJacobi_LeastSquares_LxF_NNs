{
 "cells": [
  {
   "cell_type": "code",
   "execution_count": 1,
   "metadata": {},
   "outputs": [
    {
     "name": "stdout",
     "output_type": "stream",
     "text": [
      "delta_test =  tensor(0.3000)\n",
      "Number of test points = 526979\n"
     ]
    },
    {
     "name": "stderr",
     "output_type": "stream",
     "text": [
      "C:\\Users\\usuario\\anaconda3\\envs\\FD_PINNs\\Lib\\site-packages\\torch\\functional.py:534: UserWarning: torch.meshgrid: in an upcoming release, it will be required to pass the indexing argument. (Triggered internally at C:\\cb\\pytorch_1000000000000\\work\\aten\\src\\ATen\\native\\TensorShape.cpp:3596.)\n",
      "  return _VF.meshgrid(tensors, **kwargs)  # type: ignore[attr-defined]\n"
     ]
    }
   ],
   "source": [
    "import numpy as np\n",
    "import torch.optim as optim\n",
    "import matplotlib.pyplot as plt\n",
    "import torch\n",
    "import sys\n",
    "# setting path \n",
    "sys.path.append('../')\n",
    "from NeuralNetworks.NNs import FCFF_3L\n",
    "from PointSampling.Ball import data_gen_ball\n",
    "from visualization.plots_disc import plot_2d_proj_disc\n",
    "from visualization.disc_training import plot_2d_proj_w\n",
    "from Hamiltonians.Eikonal_LxF import Eikonal_sq_LF_multiD \n",
    "from Training.training_finite_sum import train_finite_sum\n",
    "from error_test.cube_error import FD_loss\n",
    "from error_test.disc_error import error_ball\n",
    "\n",
    "dim = 5\n",
    "\n",
    "radii = [3., 0.]\n",
    "domain = data_gen_ball(radii, dim)\n",
    "\n",
    "#Right-hand-side of the PDE\n",
    "def f(X): return 1\n",
    "\n",
    "#Boundary condition\n",
    "def g(X): return 0\n",
    "\n",
    "delta_list = [.7, .5, .2, .1, .05]\n",
    "alpha_list = [2., 2., 2., 2., 2.]\n",
    "rounds = len(delta_list)\n",
    "training_params = {\n",
    "    'numerical_scheme': Eikonal_sq_LF_multiD,\n",
    "    \n",
    "    'f': f, \n",
    "    'g': g, \n",
    "    'c': None,\n",
    "    \n",
    "    'beta': 0., ## parameter for the +u_i term \n",
    "    \n",
    "    'lambda': 1. #weight parameter for the boundary loss\n",
    "}\n",
    "\n",
    "# Test data\n",
    "x_grid = torch.linspace(-max(radii), max(radii), int(21))\n",
    "print('delta_test = ', x_grid[1]-x_grid[0] )\n",
    "X = torch.meshgrid([x_grid]*dim)\n",
    "data_square = torch.cat([X[i].unsqueeze(-1) for i in range(dim)], dim = -1).reshape([-1, dim])\n",
    "test_data = data_square[data_square.norm(dim = -1) < max(radii)]\n",
    "print('Number of test points =', test_data.shape[0])\n",
    "\n",
    "n_experiments = 10"
   ]
  },
  {
   "cell_type": "markdown",
   "metadata": {},
   "source": [
    "# Fixed collocation points I"
   ]
  },
  {
   "cell_type": "code",
   "execution_count": 2,
   "metadata": {},
   "outputs": [
    {
     "name": "stderr",
     "output_type": "stream",
     "text": [
      "100%|██████████| 500/500 [00:08<00:00, 59.69it/s]\n"
     ]
    },
    {
     "name": "stdout",
     "output_type": "stream",
     "text": [
      "Mean square error: tensor(0.1819)\n",
      "L-infinity error: tensor(2.0995)\n"
     ]
    },
    {
     "name": "stderr",
     "output_type": "stream",
     "text": [
      "100%|██████████| 500/500 [00:08<00:00, 60.94it/s]\n"
     ]
    },
    {
     "name": "stdout",
     "output_type": "stream",
     "text": [
      "Mean square error: tensor(0.1514)\n",
      "L-infinity error: tensor(1.8937)\n"
     ]
    },
    {
     "name": "stderr",
     "output_type": "stream",
     "text": [
      "100%|██████████| 500/500 [00:08<00:00, 58.93it/s]\n"
     ]
    },
    {
     "name": "stdout",
     "output_type": "stream",
     "text": [
      "Mean square error: tensor(0.1111)\n",
      "L-infinity error: tensor(1.4306)\n"
     ]
    },
    {
     "name": "stderr",
     "output_type": "stream",
     "text": [
      "100%|██████████| 500/500 [00:08<00:00, 62.36it/s]\n"
     ]
    },
    {
     "name": "stdout",
     "output_type": "stream",
     "text": [
      "Mean square error: tensor(0.1016)\n",
      "L-infinity error: tensor(1.1485)\n"
     ]
    },
    {
     "name": "stderr",
     "output_type": "stream",
     "text": [
      "100%|██████████| 500/500 [00:08<00:00, 57.32it/s]\n"
     ]
    },
    {
     "name": "stdout",
     "output_type": "stream",
     "text": [
      "Mean square error: tensor(0.0722)\n",
      "L-infinity error: tensor(0.9516)\n"
     ]
    },
    {
     "name": "stderr",
     "output_type": "stream",
     "text": [
      "100%|██████████| 500/500 [00:15<00:00, 31.54it/s]\n"
     ]
    },
    {
     "name": "stdout",
     "output_type": "stream",
     "text": [
      "Mean square error: tensor(0.1767)\n",
      "L-infinity error: tensor(2.0809)\n"
     ]
    },
    {
     "name": "stderr",
     "output_type": "stream",
     "text": [
      "100%|██████████| 500/500 [00:18<00:00, 27.61it/s]\n"
     ]
    },
    {
     "name": "stdout",
     "output_type": "stream",
     "text": [
      "Mean square error: tensor(0.1431)\n",
      "L-infinity error: tensor(1.8625)\n"
     ]
    },
    {
     "name": "stderr",
     "output_type": "stream",
     "text": [
      "100%|██████████| 500/500 [00:17<00:00, 27.91it/s]\n"
     ]
    },
    {
     "name": "stdout",
     "output_type": "stream",
     "text": [
      "Mean square error: tensor(0.1066)\n",
      "L-infinity error: tensor(1.3802)\n"
     ]
    },
    {
     "name": "stderr",
     "output_type": "stream",
     "text": [
      "100%|██████████| 500/500 [00:17<00:00, 27.93it/s]\n"
     ]
    },
    {
     "name": "stdout",
     "output_type": "stream",
     "text": [
      "Mean square error: tensor(0.0867)\n",
      "L-infinity error: tensor(1.1410)\n"
     ]
    },
    {
     "name": "stderr",
     "output_type": "stream",
     "text": [
      "100%|██████████| 500/500 [00:17<00:00, 27.91it/s]\n"
     ]
    },
    {
     "name": "stdout",
     "output_type": "stream",
     "text": [
      "Mean square error: tensor(0.0523)\n",
      "L-infinity error: tensor(1.0285)\n"
     ]
    },
    {
     "name": "stderr",
     "output_type": "stream",
     "text": [
      "100%|██████████| 500/500 [00:17<00:00, 28.00it/s]\n"
     ]
    },
    {
     "name": "stdout",
     "output_type": "stream",
     "text": [
      "Mean square error: tensor(0.1605)\n",
      "L-infinity error: tensor(2.0584)\n"
     ]
    },
    {
     "name": "stderr",
     "output_type": "stream",
     "text": [
      "100%|██████████| 500/500 [00:21<00:00, 22.90it/s]\n"
     ]
    },
    {
     "name": "stdout",
     "output_type": "stream",
     "text": [
      "Mean square error: tensor(0.1282)\n",
      "L-infinity error: tensor(1.8420)\n"
     ]
    },
    {
     "name": "stderr",
     "output_type": "stream",
     "text": [
      "100%|██████████| 500/500 [00:22<00:00, 22.06it/s]\n"
     ]
    },
    {
     "name": "stdout",
     "output_type": "stream",
     "text": [
      "Mean square error: tensor(0.0893)\n",
      "L-infinity error: tensor(1.3455)\n"
     ]
    },
    {
     "name": "stderr",
     "output_type": "stream",
     "text": [
      "100%|██████████| 500/500 [00:22<00:00, 22.18it/s]\n"
     ]
    },
    {
     "name": "stdout",
     "output_type": "stream",
     "text": [
      "Mean square error: tensor(0.0777)\n",
      "L-infinity error: tensor(1.1008)\n"
     ]
    },
    {
     "name": "stderr",
     "output_type": "stream",
     "text": [
      "100%|██████████| 500/500 [00:23<00:00, 21.56it/s]\n"
     ]
    },
    {
     "name": "stdout",
     "output_type": "stream",
     "text": [
      "Mean square error: tensor(0.0411)\n",
      "L-infinity error: tensor(0.8494)\n"
     ]
    },
    {
     "name": "stderr",
     "output_type": "stream",
     "text": [
      "100%|██████████| 500/500 [00:20<00:00, 24.32it/s]\n"
     ]
    },
    {
     "name": "stdout",
     "output_type": "stream",
     "text": [
      "Mean square error: tensor(0.1947)\n",
      "L-infinity error: tensor(2.1120)\n"
     ]
    },
    {
     "name": "stderr",
     "output_type": "stream",
     "text": [
      "100%|██████████| 500/500 [00:20<00:00, 23.88it/s]\n"
     ]
    },
    {
     "name": "stdout",
     "output_type": "stream",
     "text": [
      "Mean square error: tensor(0.1616)\n",
      "L-infinity error: tensor(1.9168)\n"
     ]
    },
    {
     "name": "stderr",
     "output_type": "stream",
     "text": [
      "100%|██████████| 500/500 [00:22<00:00, 22.15it/s]\n"
     ]
    },
    {
     "name": "stdout",
     "output_type": "stream",
     "text": [
      "Mean square error: tensor(0.1196)\n",
      "L-infinity error: tensor(1.4114)\n"
     ]
    },
    {
     "name": "stderr",
     "output_type": "stream",
     "text": [
      "100%|██████████| 500/500 [00:19<00:00, 25.06it/s]\n"
     ]
    },
    {
     "name": "stdout",
     "output_type": "stream",
     "text": [
      "Mean square error: tensor(0.0818)\n",
      "L-infinity error: tensor(0.9869)\n"
     ]
    },
    {
     "name": "stderr",
     "output_type": "stream",
     "text": [
      "100%|██████████| 500/500 [00:20<00:00, 24.97it/s]\n"
     ]
    },
    {
     "name": "stdout",
     "output_type": "stream",
     "text": [
      "Mean square error: tensor(0.0347)\n",
      "L-infinity error: tensor(0.7268)\n"
     ]
    },
    {
     "name": "stderr",
     "output_type": "stream",
     "text": [
      "100%|██████████| 500/500 [00:18<00:00, 26.63it/s]\n"
     ]
    },
    {
     "name": "stdout",
     "output_type": "stream",
     "text": [
      "Mean square error: tensor(0.1477)\n",
      "L-infinity error: tensor(2.0232)\n"
     ]
    },
    {
     "name": "stderr",
     "output_type": "stream",
     "text": [
      "100%|██████████| 500/500 [00:15<00:00, 31.52it/s]\n"
     ]
    },
    {
     "name": "stdout",
     "output_type": "stream",
     "text": [
      "Mean square error: tensor(0.1276)\n",
      "L-infinity error: tensor(1.8266)\n"
     ]
    },
    {
     "name": "stderr",
     "output_type": "stream",
     "text": [
      "100%|██████████| 500/500 [00:08<00:00, 57.16it/s]\n"
     ]
    },
    {
     "name": "stdout",
     "output_type": "stream",
     "text": [
      "Mean square error: tensor(0.1071)\n",
      "L-infinity error: tensor(1.4094)\n"
     ]
    },
    {
     "name": "stderr",
     "output_type": "stream",
     "text": [
      "100%|██████████| 500/500 [00:08<00:00, 59.63it/s]\n"
     ]
    },
    {
     "name": "stdout",
     "output_type": "stream",
     "text": [
      "Mean square error: tensor(0.1065)\n",
      "L-infinity error: tensor(1.6884)\n"
     ]
    },
    {
     "name": "stderr",
     "output_type": "stream",
     "text": [
      "100%|██████████| 500/500 [00:08<00:00, 58.48it/s]\n"
     ]
    },
    {
     "name": "stdout",
     "output_type": "stream",
     "text": [
      "Mean square error: tensor(0.1150)\n",
      "L-infinity error: tensor(1.8109)\n"
     ]
    },
    {
     "name": "stderr",
     "output_type": "stream",
     "text": [
      "100%|██████████| 500/500 [00:08<00:00, 60.48it/s]\n"
     ]
    },
    {
     "name": "stdout",
     "output_type": "stream",
     "text": [
      "Mean square error: tensor(0.1402)\n",
      "L-infinity error: tensor(2.0303)\n"
     ]
    },
    {
     "name": "stderr",
     "output_type": "stream",
     "text": [
      "100%|██████████| 500/500 [00:08<00:00, 59.31it/s]\n"
     ]
    },
    {
     "name": "stdout",
     "output_type": "stream",
     "text": [
      "Mean square error: tensor(0.1051)\n",
      "L-infinity error: tensor(1.8158)\n"
     ]
    },
    {
     "name": "stderr",
     "output_type": "stream",
     "text": [
      "100%|██████████| 500/500 [00:08<00:00, 56.30it/s]\n"
     ]
    },
    {
     "name": "stdout",
     "output_type": "stream",
     "text": [
      "Mean square error: tensor(0.0642)\n",
      "L-infinity error: tensor(1.3226)\n"
     ]
    },
    {
     "name": "stderr",
     "output_type": "stream",
     "text": [
      "100%|██████████| 500/500 [00:08<00:00, 61.43it/s]\n"
     ]
    },
    {
     "name": "stdout",
     "output_type": "stream",
     "text": [
      "Mean square error: tensor(0.0562)\n",
      "L-infinity error: tensor(1.0447)\n"
     ]
    },
    {
     "name": "stderr",
     "output_type": "stream",
     "text": [
      "100%|██████████| 500/500 [00:08<00:00, 59.96it/s]\n"
     ]
    },
    {
     "name": "stdout",
     "output_type": "stream",
     "text": [
      "Mean square error: tensor(0.0319)\n",
      "L-infinity error: tensor(0.9189)\n"
     ]
    },
    {
     "name": "stderr",
     "output_type": "stream",
     "text": [
      "100%|██████████| 500/500 [00:08<00:00, 59.53it/s]\n"
     ]
    },
    {
     "name": "stdout",
     "output_type": "stream",
     "text": [
      "Mean square error: tensor(0.1949)\n",
      "L-infinity error: tensor(2.1198)\n"
     ]
    },
    {
     "name": "stderr",
     "output_type": "stream",
     "text": [
      "100%|██████████| 500/500 [00:08<00:00, 58.56it/s]\n"
     ]
    },
    {
     "name": "stdout",
     "output_type": "stream",
     "text": [
      "Mean square error: tensor(0.1563)\n",
      "L-infinity error: tensor(1.9200)\n"
     ]
    },
    {
     "name": "stderr",
     "output_type": "stream",
     "text": [
      "100%|██████████| 500/500 [00:08<00:00, 60.24it/s]\n"
     ]
    },
    {
     "name": "stdout",
     "output_type": "stream",
     "text": [
      "Mean square error: tensor(0.1135)\n",
      "L-infinity error: tensor(1.4477)\n"
     ]
    },
    {
     "name": "stderr",
     "output_type": "stream",
     "text": [
      "100%|██████████| 500/500 [00:08<00:00, 57.00it/s]\n"
     ]
    },
    {
     "name": "stdout",
     "output_type": "stream",
     "text": [
      "Mean square error: tensor(0.1106)\n",
      "L-infinity error: tensor(1.1778)\n"
     ]
    },
    {
     "name": "stderr",
     "output_type": "stream",
     "text": [
      "100%|██████████| 500/500 [00:08<00:00, 57.61it/s]\n"
     ]
    },
    {
     "name": "stdout",
     "output_type": "stream",
     "text": [
      "Mean square error: tensor(0.1207)\n",
      "L-infinity error: tensor(1.1791)\n"
     ]
    },
    {
     "name": "stderr",
     "output_type": "stream",
     "text": [
      "100%|██████████| 500/500 [00:08<00:00, 57.15it/s]\n"
     ]
    },
    {
     "name": "stdout",
     "output_type": "stream",
     "text": [
      "Mean square error: tensor(0.1670)\n",
      "L-infinity error: tensor(2.0863)\n"
     ]
    },
    {
     "name": "stderr",
     "output_type": "stream",
     "text": [
      "100%|██████████| 500/500 [00:08<00:00, 56.83it/s]\n"
     ]
    },
    {
     "name": "stdout",
     "output_type": "stream",
     "text": [
      "Mean square error: tensor(0.1365)\n",
      "L-infinity error: tensor(1.8906)\n"
     ]
    },
    {
     "name": "stderr",
     "output_type": "stream",
     "text": [
      "100%|██████████| 500/500 [00:08<00:00, 60.94it/s]\n"
     ]
    },
    {
     "name": "stdout",
     "output_type": "stream",
     "text": [
      "Mean square error: tensor(0.0950)\n",
      "L-infinity error: tensor(1.4075)\n"
     ]
    },
    {
     "name": "stderr",
     "output_type": "stream",
     "text": [
      "100%|██████████| 500/500 [00:08<00:00, 59.54it/s]\n"
     ]
    },
    {
     "name": "stdout",
     "output_type": "stream",
     "text": [
      "Mean square error: tensor(0.0767)\n",
      "L-infinity error: tensor(1.1029)\n"
     ]
    },
    {
     "name": "stderr",
     "output_type": "stream",
     "text": [
      "100%|██████████| 500/500 [00:08<00:00, 60.94it/s]\n"
     ]
    },
    {
     "name": "stdout",
     "output_type": "stream",
     "text": [
      "Mean square error: tensor(0.0457)\n",
      "L-infinity error: tensor(0.9481)\n"
     ]
    },
    {
     "name": "stderr",
     "output_type": "stream",
     "text": [
      "100%|██████████| 500/500 [00:09<00:00, 51.39it/s]\n"
     ]
    },
    {
     "name": "stdout",
     "output_type": "stream",
     "text": [
      "Mean square error: tensor(0.1652)\n",
      "L-infinity error: tensor(2.0675)\n"
     ]
    },
    {
     "name": "stderr",
     "output_type": "stream",
     "text": [
      "100%|██████████| 500/500 [00:08<00:00, 59.32it/s]\n"
     ]
    },
    {
     "name": "stdout",
     "output_type": "stream",
     "text": [
      "Mean square error: tensor(0.1287)\n",
      "L-infinity error: tensor(1.8493)\n"
     ]
    },
    {
     "name": "stderr",
     "output_type": "stream",
     "text": [
      "100%|██████████| 500/500 [00:08<00:00, 58.94it/s]\n"
     ]
    },
    {
     "name": "stdout",
     "output_type": "stream",
     "text": [
      "Mean square error: tensor(0.0858)\n",
      "L-infinity error: tensor(1.3536)\n"
     ]
    },
    {
     "name": "stderr",
     "output_type": "stream",
     "text": [
      "100%|██████████| 500/500 [00:08<00:00, 58.37it/s]\n"
     ]
    },
    {
     "name": "stdout",
     "output_type": "stream",
     "text": [
      "Mean square error: tensor(0.0632)\n",
      "L-infinity error: tensor(0.9822)\n"
     ]
    },
    {
     "name": "stderr",
     "output_type": "stream",
     "text": [
      "100%|██████████| 500/500 [00:08<00:00, 59.40it/s]\n"
     ]
    },
    {
     "name": "stdout",
     "output_type": "stream",
     "text": [
      "Mean square error: tensor(0.0536)\n",
      "L-infinity error: tensor(0.8285)\n"
     ]
    },
    {
     "name": "stderr",
     "output_type": "stream",
     "text": [
      "100%|██████████| 500/500 [00:08<00:00, 58.61it/s]\n"
     ]
    },
    {
     "name": "stdout",
     "output_type": "stream",
     "text": [
      "Mean square error: tensor(0.1598)\n",
      "L-infinity error: tensor(2.0608)\n"
     ]
    },
    {
     "name": "stderr",
     "output_type": "stream",
     "text": [
      "100%|██████████| 500/500 [00:08<00:00, 62.16it/s]\n"
     ]
    },
    {
     "name": "stdout",
     "output_type": "stream",
     "text": [
      "Mean square error: tensor(0.1250)\n",
      "L-infinity error: tensor(1.8546)\n"
     ]
    },
    {
     "name": "stderr",
     "output_type": "stream",
     "text": [
      "100%|██████████| 500/500 [00:08<00:00, 59.84it/s]\n"
     ]
    },
    {
     "name": "stdout",
     "output_type": "stream",
     "text": [
      "Mean square error: tensor(0.0865)\n",
      "L-infinity error: tensor(1.3715)\n"
     ]
    },
    {
     "name": "stderr",
     "output_type": "stream",
     "text": [
      "100%|██████████| 500/500 [00:08<00:00, 62.21it/s]\n"
     ]
    },
    {
     "name": "stdout",
     "output_type": "stream",
     "text": [
      "Mean square error: tensor(0.0661)\n",
      "L-infinity error: tensor(1.0663)\n"
     ]
    },
    {
     "name": "stderr",
     "output_type": "stream",
     "text": [
      "100%|██████████| 500/500 [00:08<00:00, 62.42it/s]\n"
     ]
    },
    {
     "name": "stdout",
     "output_type": "stream",
     "text": [
      "Mean square error: tensor(0.0527)\n",
      "L-infinity error: tensor(0.9099)\n"
     ]
    }
   ],
   "source": [
    "MSE_history1 = torch.zeros([n_experiments, rounds])\n",
    "L_inf_error_history1 = torch.zeros([n_experiments, rounds]) \n",
    "\n",
    "training_error_history1 = torch.zeros([n_experiments, rounds])\n",
    "test_error_history1 = torch.zeros([n_experiments, rounds])\n",
    "\n",
    "training_error_history1_max = torch.zeros([n_experiments, rounds])\n",
    "test_error_history1_max = torch.zeros([n_experiments, rounds])\n",
    "\n",
    "\n",
    "for j in range(n_experiments):\n",
    "    # We initialise the NN\n",
    "    NN1 = FCFF_3L([dim,30,30])\n",
    "    training_params['optimizer'] = optim.SGD(NN1.parameters(), lr = .01, momentum = .2)\n",
    "    \n",
    "    ## Here we sample the collocation points and the boundary points.\n",
    "    training_data_int = domain.rand_int_points(0., 200)\n",
    "    training_data_bound = domain.rand_bound_points(40)\n",
    "    \n",
    "    training_params['epochs'] = 500\n",
    "    training_params['batch_size'] = 50\n",
    "\n",
    "    \n",
    "    for i in range(rounds):\n",
    "    \n",
    "        training_params['alpha'] = alpha_list[i]\n",
    "        training_params['delta'] = delta_list[i]\n",
    "        \n",
    "        total_loss, PDE_loss, boundary_loss = train_finite_sum(NN1, training_data_int, \n",
    "                                                               training_data_bound, training_params)\n",
    "\n",
    "        MC_points = int(1e5) # Number of grid points for comparison with the ground truth\n",
    "        MSE, L_inf = error_ball(NN1, max(radii), MC_points, display = False)\n",
    "        \n",
    "        with torch.no_grad():\n",
    "            training_error = FD_loss(NN1, training_data_int, training_params)\n",
    "            test_error = FD_loss(NN1, test_data, training_params)\n",
    "        \n",
    "        training_error_history1[j,i] = training_error.mean()\n",
    "        test_error_history1[j,i] = test_error.mean()\n",
    "        training_error_history1_max[j,i] = training_error.max().item()\n",
    "        test_error_history1_max[j,i] = test_error.max().item()\n",
    "        \n",
    "        MSE_history1[j,i] = MSE\n",
    "        L_inf_error_history1[j,i] = L_inf\n",
    "    \n",
    "        #epochs =  training_params['epochs']\n",
    "        #plt.plot(torch.arange(epochs)+1, total_loss)\n",
    "        #plt.plot(torch.arange(epochs)+1, PDE_loss)\n",
    "        #plt.plot(torch.arange(epochs)+1, boundary_loss)\n",
    "        #plt.legend(labels=['Total loss', 'PDE loss', 'BC loss'])\n",
    "        #plt.show()\n",
    "        \n",
    "        #X_axis = 0\n",
    "        #Y_axis = 1\n",
    "        #n_grid = 100\n",
    "        \n",
    "        #plot_2d_proj_disc(X_axis, Y_axis, NN1, n_grid, n_grid, radii)\n",
    "        #plot_2d_proj_w(X_axis, Y_axis, NN1, n_grid, radii, training_params,training_data_int)\n",
    "        \n",
    "        print('Mean square error:', MSE)\n",
    "        print('L-infinity error:', L_inf)"
   ]
  },
  {
   "cell_type": "code",
   "execution_count": 3,
   "metadata": {},
   "outputs": [
    {
     "data": {
      "image/png": "[encoded data removed]",
      "text/plain": [
       "<Figure size 640x480 with 1 Axes>"
      ]
     },
     "metadata": {},
     "output_type": "display_data"
    },
    {
     "data": {
      "image/png": "[encoded data removed]",
      "text/plain": [
       "<Figure size 640x480 with 1 Axes>"
      ]
     },
     "metadata": {},
     "output_type": "display_data"
    },
    {
     "data": {
      "image/png": "[encoded data removed]",
      "text/plain": [
       "<Figure size 640x480 with 1 Axes>"
      ]
     },
     "metadata": {},
     "output_type": "display_data"
    }
   ],
   "source": [
    "plt.plot(np.arange(rounds) , training_error_history1.mean(0))\n",
    "plt.fill_between(np.arange(rounds) , \n",
    "                 training_error_history1.mean(0) - training_error_history1.std(0), \n",
    "                training_error_history1.mean(0) + training_error_history1.std(0), alpha=0.4)\n",
    "\n",
    "plt.plot(np.arange(rounds) , test_error_history1.mean(0))\n",
    "plt.fill_between(np.arange(rounds), \n",
    "                test_error_history1.mean(0) - test_error_history1.std(0),\n",
    "                test_error_history1.mean(0) + test_error_history1.std(0), alpha = 0.4)\n",
    "\n",
    "plt.legend(labels = ['Training FD loss', 'Test FD loss'])\n",
    "plt.xticks([i for i in range(rounds)], [i+1 for i in range(rounds)])\n",
    "plt.title('FD loss')\n",
    "plt.show()\n",
    "\n",
    "plt.plot(np.arange(rounds) , training_error_history1_max.mean(0))\n",
    "plt.fill_between(np.arange(rounds),\n",
    "                 training_error_history1_max.mean(0) - training_error_history1_max.std(0),\n",
    "                training_error_history1_max.mean(0) + training_error_history1_max.std(0),\n",
    "                alpha = .4)\n",
    "\n",
    "plt.plot(np.arange(rounds) , test_error_history1_max.mean(0))\n",
    "plt.fill_between(np.arange(rounds),\n",
    "                test_error_history1_max.mean(0) - test_error_history1_max.std(0),\n",
    "                test_error_history1_max.mean(0) + test_error_history1_max.std(0),\n",
    "                alpha = .4)\n",
    "#plt.ylim(0, test_error_history1_max.max().item()+.1)\n",
    "plt.legend(labels = ['Training FD loss', 'Test FD loss'])\n",
    "plt.xticks([i for i in range(rounds)], [i+1 for i in range(rounds)])\n",
    "plt.title('max of FD loss')\n",
    "plt.show()\n",
    "\n",
    "plt.plot(np.arange(rounds), L_inf_error_history1.mean(0))\n",
    "plt.fill_between(np.arange(rounds),\n",
    "                L_inf_error_history1.mean(0) - L_inf_error_history1.std(0),\n",
    "                L_inf_error_history1.mean(0) + L_inf_error_history1.std(0),\n",
    "                alpha = .4)\n",
    "\n",
    "plt.ylim(0, L_inf_error_history1.max().item()+0.1)\n",
    "plt.title('L-inf error w.r.t. ground truth')\n",
    "plt.xticks([i for i in range(rounds)], [i+1 for i in range(rounds)])\n",
    "plt.show()"
   ]
  },
  {
   "cell_type": "markdown",
   "metadata": {},
   "source": [
    "# Fixed collocation points II\n"
   ]
  },
  {
   "cell_type": "code",
   "execution_count": 4,
   "metadata": {},
   "outputs": [
    {
     "name": "stderr",
     "output_type": "stream",
     "text": [
      "100%|██████████| 500/500 [00:15<00:00, 31.78it/s]\n"
     ]
    },
    {
     "name": "stdout",
     "output_type": "stream",
     "text": [
      "Mean square error: tensor(0.1192)\n",
      "L-infinity error: tensor(1.9868)\n"
     ]
    },
    {
     "name": "stderr",
     "output_type": "stream",
     "text": [
      "100%|██████████| 500/500 [00:15<00:00, 31.65it/s]\n"
     ]
    },
    {
     "name": "stdout",
     "output_type": "stream",
     "text": [
      "Mean square error: tensor(0.0842)\n",
      "L-infinity error: tensor(1.7479)\n"
     ]
    },
    {
     "name": "stderr",
     "output_type": "stream",
     "text": [
      "100%|██████████| 500/500 [00:16<00:00, 31.08it/s]\n"
     ]
    },
    {
     "name": "stdout",
     "output_type": "stream",
     "text": [
      "Mean square error: tensor(0.0345)\n",
      "L-infinity error: tensor(1.1939)\n"
     ]
    },
    {
     "name": "stderr",
     "output_type": "stream",
     "text": [
      "100%|██████████| 500/500 [00:15<00:00, 31.90it/s]\n"
     ]
    },
    {
     "name": "stdout",
     "output_type": "stream",
     "text": [
      "Mean square error: tensor(0.0287)\n",
      "L-infinity error: tensor(0.8852)\n"
     ]
    },
    {
     "name": "stderr",
     "output_type": "stream",
     "text": [
      "100%|██████████| 500/500 [00:15<00:00, 31.51it/s]\n"
     ]
    },
    {
     "name": "stdout",
     "output_type": "stream",
     "text": [
      "Mean square error: tensor(0.0185)\n",
      "L-infinity error: tensor(0.6130)\n"
     ]
    },
    {
     "name": "stderr",
     "output_type": "stream",
     "text": [
      "100%|██████████| 500/500 [00:15<00:00, 31.60it/s]\n"
     ]
    },
    {
     "name": "stdout",
     "output_type": "stream",
     "text": [
      "Mean square error: tensor(0.1221)\n",
      "L-infinity error: tensor(1.9822)\n"
     ]
    },
    {
     "name": "stderr",
     "output_type": "stream",
     "text": [
      "100%|██████████| 500/500 [00:16<00:00, 30.87it/s]\n"
     ]
    },
    {
     "name": "stdout",
     "output_type": "stream",
     "text": [
      "Mean square error: tensor(0.0863)\n",
      "L-infinity error: tensor(1.7347)\n"
     ]
    },
    {
     "name": "stderr",
     "output_type": "stream",
     "text": [
      "100%|██████████| 500/500 [00:15<00:00, 31.40it/s]\n"
     ]
    },
    {
     "name": "stdout",
     "output_type": "stream",
     "text": [
      "Mean square error: tensor(0.0350)\n",
      "L-infinity error: tensor(1.1480)\n"
     ]
    },
    {
     "name": "stderr",
     "output_type": "stream",
     "text": [
      "100%|██████████| 500/500 [00:15<00:00, 31.92it/s]\n"
     ]
    },
    {
     "name": "stdout",
     "output_type": "stream",
     "text": [
      "Mean square error: tensor(0.0227)\n",
      "L-infinity error: tensor(0.7886)\n"
     ]
    },
    {
     "name": "stderr",
     "output_type": "stream",
     "text": [
      "100%|██████████| 500/500 [00:15<00:00, 31.42it/s]\n"
     ]
    },
    {
     "name": "stdout",
     "output_type": "stream",
     "text": [
      "Mean square error: tensor(0.0186)\n",
      "L-infinity error: tensor(0.6107)\n"
     ]
    },
    {
     "name": "stderr",
     "output_type": "stream",
     "text": [
      "100%|██████████| 500/500 [00:15<00:00, 31.89it/s]\n"
     ]
    },
    {
     "name": "stdout",
     "output_type": "stream",
     "text": [
      "Mean square error: tensor(0.1224)\n",
      "L-infinity error: tensor(1.9778)\n"
     ]
    },
    {
     "name": "stderr",
     "output_type": "stream",
     "text": [
      "100%|██████████| 500/500 [00:15<00:00, 32.00it/s]\n"
     ]
    },
    {
     "name": "stdout",
     "output_type": "stream",
     "text": [
      "Mean square error: tensor(0.0853)\n",
      "L-infinity error: tensor(1.7278)\n"
     ]
    },
    {
     "name": "stderr",
     "output_type": "stream",
     "text": [
      "100%|██████████| 500/500 [00:15<00:00, 31.69it/s]\n"
     ]
    },
    {
     "name": "stdout",
     "output_type": "stream",
     "text": [
      "Mean square error: tensor(0.0400)\n",
      "L-infinity error: tensor(1.1654)\n"
     ]
    },
    {
     "name": "stderr",
     "output_type": "stream",
     "text": [
      "100%|██████████| 500/500 [00:15<00:00, 31.67it/s]\n"
     ]
    },
    {
     "name": "stdout",
     "output_type": "stream",
     "text": [
      "Mean square error: tensor(0.0312)\n",
      "L-infinity error: tensor(0.8505)\n"
     ]
    },
    {
     "name": "stderr",
     "output_type": "stream",
     "text": [
      "100%|██████████| 500/500 [00:16<00:00, 30.04it/s]\n"
     ]
    },
    {
     "name": "stdout",
     "output_type": "stream",
     "text": [
      "Mean square error: tensor(0.0212)\n",
      "L-infinity error: tensor(0.5966)\n"
     ]
    },
    {
     "name": "stderr",
     "output_type": "stream",
     "text": [
      "100%|██████████| 500/500 [00:16<00:00, 30.17it/s]\n"
     ]
    },
    {
     "name": "stdout",
     "output_type": "stream",
     "text": [
      "Mean square error: tensor(0.1213)\n",
      "L-infinity error: tensor(1.9798)\n"
     ]
    },
    {
     "name": "stderr",
     "output_type": "stream",
     "text": [
      "100%|██████████| 500/500 [00:15<00:00, 32.32it/s]\n"
     ]
    },
    {
     "name": "stdout",
     "output_type": "stream",
     "text": [
      "Mean square error: tensor(0.0797)\n",
      "L-infinity error: tensor(1.7341)\n"
     ]
    },
    {
     "name": "stderr",
     "output_type": "stream",
     "text": [
      "100%|██████████| 500/500 [00:15<00:00, 31.67it/s]\n"
     ]
    },
    {
     "name": "stdout",
     "output_type": "stream",
     "text": [
      "Mean square error: tensor(0.0316)\n",
      "L-infinity error: tensor(1.1405)\n"
     ]
    },
    {
     "name": "stderr",
     "output_type": "stream",
     "text": [
      "100%|██████████| 500/500 [00:15<00:00, 31.82it/s]\n"
     ]
    },
    {
     "name": "stdout",
     "output_type": "stream",
     "text": [
      "Mean square error: tensor(0.0207)\n",
      "L-infinity error: tensor(0.7563)\n"
     ]
    },
    {
     "name": "stderr",
     "output_type": "stream",
     "text": [
      "100%|██████████| 500/500 [00:15<00:00, 32.16it/s]\n"
     ]
    },
    {
     "name": "stdout",
     "output_type": "stream",
     "text": [
      "Mean square error: tensor(0.0166)\n",
      "L-infinity error: tensor(0.5657)\n"
     ]
    },
    {
     "name": "stderr",
     "output_type": "stream",
     "text": [
      "100%|██████████| 500/500 [00:15<00:00, 31.80it/s]\n"
     ]
    },
    {
     "name": "stdout",
     "output_type": "stream",
     "text": [
      "Mean square error: tensor(0.1278)\n",
      "L-infinity error: tensor(2.0043)\n"
     ]
    },
    {
     "name": "stderr",
     "output_type": "stream",
     "text": [
      "100%|██████████| 500/500 [00:15<00:00, 31.71it/s]\n"
     ]
    },
    {
     "name": "stdout",
     "output_type": "stream",
     "text": [
      "Mean square error: tensor(0.0924)\n",
      "L-infinity error: tensor(1.7645)\n"
     ]
    },
    {
     "name": "stderr",
     "output_type": "stream",
     "text": [
      "100%|██████████| 500/500 [00:15<00:00, 31.41it/s]\n"
     ]
    },
    {
     "name": "stdout",
     "output_type": "stream",
     "text": [
      "Mean square error: tensor(0.0409)\n",
      "L-infinity error: tensor(1.2009)\n"
     ]
    },
    {
     "name": "stderr",
     "output_type": "stream",
     "text": [
      "100%|██████████| 500/500 [00:16<00:00, 30.62it/s]\n"
     ]
    },
    {
     "name": "stdout",
     "output_type": "stream",
     "text": [
      "Mean square error: tensor(0.0310)\n",
      "L-infinity error: tensor(0.8791)\n"
     ]
    },
    {
     "name": "stderr",
     "output_type": "stream",
     "text": [
      "100%|██████████| 500/500 [00:17<00:00, 28.39it/s]\n"
     ]
    },
    {
     "name": "stdout",
     "output_type": "stream",
     "text": [
      "Mean square error: tensor(0.0305)\n",
      "L-infinity error: tensor(0.7594)\n"
     ]
    },
    {
     "name": "stderr",
     "output_type": "stream",
     "text": [
      "100%|██████████| 500/500 [00:16<00:00, 29.50it/s]\n"
     ]
    },
    {
     "name": "stdout",
     "output_type": "stream",
     "text": [
      "Mean square error: tensor(0.1214)\n",
      "L-infinity error: tensor(1.9782)\n"
     ]
    },
    {
     "name": "stderr",
     "output_type": "stream",
     "text": [
      "100%|██████████| 500/500 [00:16<00:00, 29.98it/s]\n"
     ]
    },
    {
     "name": "stdout",
     "output_type": "stream",
     "text": [
      "Mean square error: tensor(0.0912)\n",
      "L-infinity error: tensor(1.7492)\n"
     ]
    },
    {
     "name": "stderr",
     "output_type": "stream",
     "text": [
      "100%|██████████| 500/500 [00:16<00:00, 30.15it/s]\n"
     ]
    },
    {
     "name": "stdout",
     "output_type": "stream",
     "text": [
      "Mean square error: tensor(0.0396)\n",
      "L-infinity error: tensor(1.1789)\n"
     ]
    },
    {
     "name": "stderr",
     "output_type": "stream",
     "text": [
      "100%|██████████| 500/500 [00:16<00:00, 30.61it/s]\n"
     ]
    },
    {
     "name": "stdout",
     "output_type": "stream",
     "text": [
      "Mean square error: tensor(0.0269)\n",
      "L-infinity error: tensor(0.7970)\n"
     ]
    },
    {
     "name": "stderr",
     "output_type": "stream",
     "text": [
      "100%|██████████| 500/500 [00:16<00:00, 31.18it/s]\n"
     ]
    },
    {
     "name": "stdout",
     "output_type": "stream",
     "text": [
      "Mean square error: tensor(0.0150)\n",
      "L-infinity error: tensor(0.6108)\n"
     ]
    },
    {
     "name": "stderr",
     "output_type": "stream",
     "text": [
      "100%|██████████| 500/500 [00:16<00:00, 30.90it/s]\n"
     ]
    },
    {
     "name": "stdout",
     "output_type": "stream",
     "text": [
      "Mean square error: tensor(0.1215)\n",
      "L-infinity error: tensor(1.9897)\n"
     ]
    },
    {
     "name": "stderr",
     "output_type": "stream",
     "text": [
      "100%|██████████| 500/500 [00:16<00:00, 30.78it/s]\n"
     ]
    },
    {
     "name": "stdout",
     "output_type": "stream",
     "text": [
      "Mean square error: tensor(0.0899)\n",
      "L-infinity error: tensor(1.7573)\n"
     ]
    },
    {
     "name": "stderr",
     "output_type": "stream",
     "text": [
      "100%|██████████| 500/500 [00:16<00:00, 31.02it/s]\n"
     ]
    },
    {
     "name": "stdout",
     "output_type": "stream",
     "text": [
      "Mean square error: tensor(0.0450)\n",
      "L-infinity error: tensor(1.2085)\n"
     ]
    },
    {
     "name": "stderr",
     "output_type": "stream",
     "text": [
      "100%|██████████| 500/500 [00:15<00:00, 32.51it/s]\n"
     ]
    },
    {
     "name": "stdout",
     "output_type": "stream",
     "text": [
      "Mean square error: tensor(0.0311)\n",
      "L-infinity error: tensor(0.8783)\n"
     ]
    },
    {
     "name": "stderr",
     "output_type": "stream",
     "text": [
      "100%|██████████| 500/500 [00:15<00:00, 32.26it/s]\n"
     ]
    },
    {
     "name": "stdout",
     "output_type": "stream",
     "text": [
      "Mean square error: tensor(0.0293)\n",
      "L-infinity error: tensor(0.7321)\n"
     ]
    },
    {
     "name": "stderr",
     "output_type": "stream",
     "text": [
      "100%|██████████| 500/500 [00:15<00:00, 32.52it/s]\n"
     ]
    },
    {
     "name": "stdout",
     "output_type": "stream",
     "text": [
      "Mean square error: tensor(0.1181)\n",
      "L-infinity error: tensor(1.9699)\n"
     ]
    },
    {
     "name": "stderr",
     "output_type": "stream",
     "text": [
      "100%|██████████| 500/500 [00:15<00:00, 33.18it/s]\n"
     ]
    },
    {
     "name": "stdout",
     "output_type": "stream",
     "text": [
      "Mean square error: tensor(0.0832)\n",
      "L-infinity error: tensor(1.7252)\n"
     ]
    },
    {
     "name": "stderr",
     "output_type": "stream",
     "text": [
      "100%|██████████| 500/500 [00:15<00:00, 31.91it/s]\n"
     ]
    },
    {
     "name": "stdout",
     "output_type": "stream",
     "text": [
      "Mean square error: tensor(0.0323)\n",
      "L-infinity error: tensor(1.1225)\n"
     ]
    },
    {
     "name": "stderr",
     "output_type": "stream",
     "text": [
      "100%|██████████| 500/500 [00:15<00:00, 32.59it/s]\n"
     ]
    },
    {
     "name": "stdout",
     "output_type": "stream",
     "text": [
      "Mean square error: tensor(0.0209)\n",
      "L-infinity error: tensor(0.7773)\n"
     ]
    },
    {
     "name": "stderr",
     "output_type": "stream",
     "text": [
      "100%|██████████| 500/500 [00:15<00:00, 31.47it/s]\n"
     ]
    },
    {
     "name": "stdout",
     "output_type": "stream",
     "text": [
      "Mean square error: tensor(0.0180)\n",
      "L-infinity error: tensor(0.5636)\n"
     ]
    },
    {
     "name": "stderr",
     "output_type": "stream",
     "text": [
      "100%|██████████| 500/500 [00:15<00:00, 32.55it/s]\n"
     ]
    },
    {
     "name": "stdout",
     "output_type": "stream",
     "text": [
      "Mean square error: tensor(0.1261)\n",
      "L-infinity error: tensor(2.0059)\n"
     ]
    },
    {
     "name": "stderr",
     "output_type": "stream",
     "text": [
      "100%|██████████| 500/500 [00:15<00:00, 33.09it/s]\n"
     ]
    },
    {
     "name": "stdout",
     "output_type": "stream",
     "text": [
      "Mean square error: tensor(0.0878)\n",
      "L-infinity error: tensor(1.7656)\n"
     ]
    },
    {
     "name": "stderr",
     "output_type": "stream",
     "text": [
      "100%|██████████| 500/500 [00:15<00:00, 32.76it/s]\n"
     ]
    },
    {
     "name": "stdout",
     "output_type": "stream",
     "text": [
      "Mean square error: tensor(0.0430)\n",
      "L-infinity error: tensor(1.1850)\n"
     ]
    },
    {
     "name": "stderr",
     "output_type": "stream",
     "text": [
      "100%|██████████| 500/500 [00:15<00:00, 32.92it/s]\n"
     ]
    },
    {
     "name": "stdout",
     "output_type": "stream",
     "text": [
      "Mean square error: tensor(0.0310)\n",
      "L-infinity error: tensor(0.8535)\n"
     ]
    },
    {
     "name": "stderr",
     "output_type": "stream",
     "text": [
      "100%|██████████| 500/500 [00:15<00:00, 33.16it/s]\n"
     ]
    },
    {
     "name": "stdout",
     "output_type": "stream",
     "text": [
      "Mean square error: tensor(0.0252)\n",
      "L-infinity error: tensor(0.7208)\n"
     ]
    },
    {
     "name": "stderr",
     "output_type": "stream",
     "text": [
      "100%|██████████| 500/500 [00:15<00:00, 32.81it/s]\n"
     ]
    },
    {
     "name": "stdout",
     "output_type": "stream",
     "text": [
      "Mean square error: tensor(0.1223)\n",
      "L-infinity error: tensor(1.9937)\n"
     ]
    },
    {
     "name": "stderr",
     "output_type": "stream",
     "text": [
      "100%|██████████| 500/500 [00:15<00:00, 32.56it/s]\n"
     ]
    },
    {
     "name": "stdout",
     "output_type": "stream",
     "text": [
      "Mean square error: tensor(0.0841)\n",
      "L-infinity error: tensor(1.7482)\n"
     ]
    },
    {
     "name": "stderr",
     "output_type": "stream",
     "text": [
      "100%|██████████| 500/500 [00:15<00:00, 31.94it/s]\n"
     ]
    },
    {
     "name": "stdout",
     "output_type": "stream",
     "text": [
      "Mean square error: tensor(0.0315)\n",
      "L-infinity error: tensor(1.1588)\n"
     ]
    },
    {
     "name": "stderr",
     "output_type": "stream",
     "text": [
      "100%|██████████| 500/500 [00:16<00:00, 30.44it/s]\n"
     ]
    },
    {
     "name": "stdout",
     "output_type": "stream",
     "text": [
      "Mean square error: tensor(0.0211)\n",
      "L-infinity error: tensor(0.8096)\n"
     ]
    },
    {
     "name": "stderr",
     "output_type": "stream",
     "text": [
      "100%|██████████| 500/500 [00:16<00:00, 30.93it/s]\n"
     ]
    },
    {
     "name": "stdout",
     "output_type": "stream",
     "text": [
      "Mean square error: tensor(0.0167)\n",
      "L-infinity error: tensor(0.6674)\n"
     ]
    }
   ],
   "source": [
    "MSE_history2 = torch.zeros([n_experiments, rounds])\n",
    "L_inf_error_history2 = torch.zeros([n_experiments, rounds]) \n",
    "\n",
    "training_error_history2 = torch.zeros([n_experiments, rounds])\n",
    "test_error_history2 = torch.zeros([n_experiments, rounds])\n",
    "\n",
    "training_error_history2_max = torch.zeros([n_experiments, rounds])\n",
    "test_error_history2_max = torch.zeros([n_experiments, rounds])\n",
    "\n",
    "\n",
    "for j in range(n_experiments):\n",
    "    # We initialise the NN\n",
    "    NN2 = FCFF_3L([dim,30,30])\n",
    "    training_params['optimizer'] = optim.SGD(NN2.parameters(), lr = .01, momentum = .2)\n",
    "    \n",
    "    ## Here we sample the collocation points and the boundary points.\n",
    "    training_data_int = domain.rand_int_points(0., 400)\n",
    "    training_data_bound = domain.rand_bound_points(80)\n",
    "    \n",
    "    training_params['epochs'] = 500\n",
    "    training_params['batch_size'] = 50\n",
    "\n",
    "    \n",
    "    for i in range(rounds):\n",
    "    \n",
    "        training_params['alpha'] = alpha_list[i]\n",
    "        training_params['delta'] = delta_list[i]\n",
    "        \n",
    "        total_loss, PDE_loss, boundary_loss = train_finite_sum(NN2, training_data_int, \n",
    "                                                               training_data_bound, training_params)\n",
    "\n",
    "        MC_points = int(1e5) # Number of grid points for comparison with the ground truth\n",
    "        MSE, L_inf = error_ball(NN2, max(radii), MC_points, display = False)\n",
    "        \n",
    "        with torch.no_grad():\n",
    "            training_error = FD_loss(NN2, training_data_int, training_params)\n",
    "            test_error = FD_loss(NN2, test_data, training_params)\n",
    "        \n",
    "        training_error_history2[j,i] = training_error.mean()\n",
    "        test_error_history2[j,i] = test_error.mean()\n",
    "        training_error_history2_max[j,i] = training_error.max().item()\n",
    "        test_error_history2_max[j,i] = test_error.max().item()\n",
    "        \n",
    "        MSE_history2[j,i] = MSE\n",
    "        L_inf_error_history2[j,i] = L_inf\n",
    "    \n",
    "        \n",
    "        print('Mean square error:', MSE)\n",
    "        print('L-infinity error:', L_inf)"
   ]
  },
  {
   "cell_type": "code",
   "execution_count": 5,
   "metadata": {},
   "outputs": [
    {
     "data": {
      "image/png": "[encoded data removed]",
      "text/plain": [
       "<Figure size 640x480 with 1 Axes>"
      ]
     },
     "metadata": {},
     "output_type": "display_data"
    },
    {
     "data": {
      "image/png": "[encoded data removed]",
      "text/plain": [
       "<Figure size 640x480 with 1 Axes>"
      ]
     },
     "metadata": {},
     "output_type": "display_data"
    },
    {
     "data": {
      "image/png": "[encoded data removed]",
      "text/plain": [
       "<Figure size 640x480 with 1 Axes>"
      ]
     },
     "metadata": {},
     "output_type": "display_data"
    }
   ],
   "source": [
    "plt.plot(np.arange(rounds) , training_error_history2.mean(0))\n",
    "plt.fill_between(np.arange(rounds) , \n",
    "                 training_error_history2.mean(0) - training_error_history2.std(0), \n",
    "                training_error_history2.mean(0) + training_error_history2.std(0), alpha=0.4)\n",
    "\n",
    "plt.plot(np.arange(rounds) , test_error_history2.mean(0))\n",
    "plt.fill_between(np.arange(rounds), \n",
    "                test_error_history2.mean(0) - test_error_history2.std(0),\n",
    "                test_error_history2.mean(0) + test_error_history2.std(0), alpha = 0.4)\n",
    "\n",
    "plt.legend(labels = ['Training FD loss', 'Test FD loss'])\n",
    "plt.xticks([i for i in range(rounds)], [i+1 for i in range(rounds)])\n",
    "plt.title('FD loss')\n",
    "plt.show()\n",
    "\n",
    "plt.plot(np.arange(rounds) , training_error_history2_max.mean(0))\n",
    "plt.fill_between(np.arange(rounds),\n",
    "                 training_error_history2_max.mean(0) - training_error_history2_max.std(0),\n",
    "                training_error_history2_max.mean(0) + training_error_history2_max.std(0),\n",
    "                alpha = .4)\n",
    "\n",
    "plt.plot(np.arange(rounds) , test_error_history2_max.mean(0))\n",
    "plt.fill_between(np.arange(rounds),\n",
    "                test_error_history2_max.mean(0) - test_error_history2_max.std(0),\n",
    "                test_error_history2_max.mean(0) + test_error_history2_max.std(0),\n",
    "                alpha = .4)\n",
    "#plt.ylim(0, test_error_history1_max.max().item()+.1)\n",
    "plt.legend(labels = ['Training FD loss', 'Test FD loss'])\n",
    "plt.xticks([i for i in range(rounds)], [i+1 for i in range(rounds)])\n",
    "plt.title('max of FD loss')\n",
    "plt.show()\n",
    "\n",
    "plt.plot(np.arange(rounds), L_inf_error_history2.mean(0))\n",
    "plt.fill_between(np.arange(rounds),\n",
    "                L_inf_error_history2.mean(0) - L_inf_error_history2.std(0),\n",
    "                L_inf_error_history2.mean(0) + L_inf_error_history2.std(0),\n",
    "                alpha = .4)\n",
    "\n",
    "plt.ylim(0, L_inf_error_history2.max().item()+0.1)\n",
    "plt.title('L-inf error w.r.t. ground truth')\n",
    "plt.xticks([i for i in range(rounds)], [i+1 for i in range(rounds)])\n",
    "plt.show()"
   ]
  },
  {
   "cell_type": "markdown",
   "metadata": {},
   "source": [
    "# Re-sampling"
   ]
  },
  {
   "cell_type": "code",
   "execution_count": 6,
   "metadata": {},
   "outputs": [
    {
     "name": "stderr",
     "output_type": "stream",
     "text": [
      "100%|██████████| 2500/2500 [00:13<00:00, 181.90it/s]\n"
     ]
    },
    {
     "name": "stdout",
     "output_type": "stream",
     "text": [
      "Mean square error: tensor(0.1152)\n",
      "L-infinity error: tensor(1.9840)\n"
     ]
    },
    {
     "name": "stderr",
     "output_type": "stream",
     "text": [
      "100%|██████████| 2500/2500 [00:13<00:00, 180.09it/s]\n"
     ]
    },
    {
     "name": "stdout",
     "output_type": "stream",
     "text": [
      "Mean square error: tensor(0.0710)\n",
      "L-infinity error: tensor(1.7135)\n"
     ]
    },
    {
     "name": "stderr",
     "output_type": "stream",
     "text": [
      "100%|██████████| 2500/2500 [00:13<00:00, 185.41it/s]\n"
     ]
    },
    {
     "name": "stdout",
     "output_type": "stream",
     "text": [
      "Mean square error: tensor(0.0214)\n",
      "L-infinity error: tensor(1.0636)\n"
     ]
    },
    {
     "name": "stderr",
     "output_type": "stream",
     "text": [
      "100%|██████████| 2500/2500 [00:13<00:00, 181.57it/s]\n"
     ]
    },
    {
     "name": "stdout",
     "output_type": "stream",
     "text": [
      "Mean square error: tensor(0.0099)\n",
      "L-infinity error: tensor(0.7038)\n"
     ]
    },
    {
     "name": "stderr",
     "output_type": "stream",
     "text": [
      "100%|██████████| 2500/2500 [00:14<00:00, 175.15it/s]\n"
     ]
    },
    {
     "name": "stdout",
     "output_type": "stream",
     "text": [
      "Mean square error: tensor(0.0057)\n",
      "L-infinity error: tensor(0.4557)\n"
     ]
    },
    {
     "name": "stderr",
     "output_type": "stream",
     "text": [
      "100%|██████████| 2500/2500 [00:13<00:00, 185.75it/s]\n"
     ]
    },
    {
     "name": "stdout",
     "output_type": "stream",
     "text": [
      "Mean square error: tensor(0.1115)\n",
      "L-infinity error: tensor(1.9755)\n"
     ]
    },
    {
     "name": "stderr",
     "output_type": "stream",
     "text": [
      "100%|██████████| 2500/2500 [00:13<00:00, 183.23it/s]\n"
     ]
    },
    {
     "name": "stdout",
     "output_type": "stream",
     "text": [
      "Mean square error: tensor(0.0719)\n",
      "L-infinity error: tensor(1.7109)\n"
     ]
    },
    {
     "name": "stderr",
     "output_type": "stream",
     "text": [
      "100%|██████████| 2500/2500 [00:13<00:00, 186.03it/s]\n"
     ]
    },
    {
     "name": "stdout",
     "output_type": "stream",
     "text": [
      "Mean square error: tensor(0.0210)\n",
      "L-infinity error: tensor(1.0596)\n"
     ]
    },
    {
     "name": "stderr",
     "output_type": "stream",
     "text": [
      "100%|██████████| 2500/2500 [00:14<00:00, 176.80it/s]\n"
     ]
    },
    {
     "name": "stdout",
     "output_type": "stream",
     "text": [
      "Mean square error: tensor(0.0093)\n",
      "L-infinity error: tensor(0.6948)\n"
     ]
    },
    {
     "name": "stderr",
     "output_type": "stream",
     "text": [
      "100%|██████████| 2500/2500 [00:13<00:00, 181.84it/s]\n"
     ]
    },
    {
     "name": "stdout",
     "output_type": "stream",
     "text": [
      "Mean square error: tensor(0.0046)\n",
      "L-infinity error: tensor(0.4503)\n"
     ]
    },
    {
     "name": "stderr",
     "output_type": "stream",
     "text": [
      "100%|██████████| 2500/2500 [00:13<00:00, 184.44it/s]\n"
     ]
    },
    {
     "name": "stdout",
     "output_type": "stream",
     "text": [
      "Mean square error: tensor(0.1092)\n",
      "L-infinity error: tensor(1.9723)\n"
     ]
    },
    {
     "name": "stderr",
     "output_type": "stream",
     "text": [
      "100%|██████████| 2500/2500 [00:13<00:00, 188.44it/s]\n"
     ]
    },
    {
     "name": "stdout",
     "output_type": "stream",
     "text": [
      "Mean square error: tensor(0.0689)\n",
      "L-infinity error: tensor(1.7113)\n"
     ]
    },
    {
     "name": "stderr",
     "output_type": "stream",
     "text": [
      "100%|██████████| 2500/2500 [00:13<00:00, 180.58it/s]\n"
     ]
    },
    {
     "name": "stdout",
     "output_type": "stream",
     "text": [
      "Mean square error: tensor(0.0183)\n",
      "L-infinity error: tensor(1.0591)\n"
     ]
    },
    {
     "name": "stderr",
     "output_type": "stream",
     "text": [
      "100%|██████████| 2500/2500 [00:13<00:00, 181.88it/s]\n"
     ]
    },
    {
     "name": "stdout",
     "output_type": "stream",
     "text": [
      "Mean square error: tensor(0.0084)\n",
      "L-infinity error: tensor(0.6967)\n"
     ]
    },
    {
     "name": "stderr",
     "output_type": "stream",
     "text": [
      "100%|██████████| 2500/2500 [00:13<00:00, 189.87it/s]\n"
     ]
    },
    {
     "name": "stdout",
     "output_type": "stream",
     "text": [
      "Mean square error: tensor(0.0047)\n",
      "L-infinity error: tensor(0.4529)\n"
     ]
    },
    {
     "name": "stderr",
     "output_type": "stream",
     "text": [
      "100%|██████████| 2500/2500 [00:13<00:00, 181.04it/s]\n"
     ]
    },
    {
     "name": "stdout",
     "output_type": "stream",
     "text": [
      "Mean square error: tensor(0.1136)\n",
      "L-infinity error: tensor(1.9742)\n"
     ]
    },
    {
     "name": "stderr",
     "output_type": "stream",
     "text": [
      "100%|██████████| 2500/2500 [00:14<00:00, 176.19it/s]\n"
     ]
    },
    {
     "name": "stdout",
     "output_type": "stream",
     "text": [
      "Mean square error: tensor(0.0707)\n",
      "L-infinity error: tensor(1.7072)\n"
     ]
    },
    {
     "name": "stderr",
     "output_type": "stream",
     "text": [
      "100%|██████████| 2500/2500 [00:14<00:00, 172.03it/s]\n"
     ]
    },
    {
     "name": "stdout",
     "output_type": "stream",
     "text": [
      "Mean square error: tensor(0.0201)\n",
      "L-infinity error: tensor(1.0572)\n"
     ]
    },
    {
     "name": "stderr",
     "output_type": "stream",
     "text": [
      "100%|██████████| 2500/2500 [00:15<00:00, 162.97it/s]\n"
     ]
    },
    {
     "name": "stdout",
     "output_type": "stream",
     "text": [
      "Mean square error: tensor(0.0099)\n",
      "L-infinity error: tensor(0.7056)\n"
     ]
    },
    {
     "name": "stderr",
     "output_type": "stream",
     "text": [
      "100%|██████████| 2500/2500 [00:15<00:00, 160.62it/s]\n"
     ]
    },
    {
     "name": "stdout",
     "output_type": "stream",
     "text": [
      "Mean square error: tensor(0.0059)\n",
      "L-infinity error: tensor(0.4619)\n"
     ]
    },
    {
     "name": "stderr",
     "output_type": "stream",
     "text": [
      "100%|██████████| 2500/2500 [00:13<00:00, 188.21it/s]\n"
     ]
    },
    {
     "name": "stdout",
     "output_type": "stream",
     "text": [
      "Mean square error: tensor(0.1179)\n",
      "L-infinity error: tensor(1.9856)\n"
     ]
    },
    {
     "name": "stderr",
     "output_type": "stream",
     "text": [
      "100%|██████████| 2500/2500 [00:14<00:00, 172.52it/s]\n"
     ]
    },
    {
     "name": "stdout",
     "output_type": "stream",
     "text": [
      "Mean square error: tensor(0.0736)\n",
      "L-infinity error: tensor(1.7164)\n"
     ]
    },
    {
     "name": "stderr",
     "output_type": "stream",
     "text": [
      "100%|██████████| 2500/2500 [00:12<00:00, 195.52it/s]\n"
     ]
    },
    {
     "name": "stdout",
     "output_type": "stream",
     "text": [
      "Mean square error: tensor(0.0244)\n",
      "L-infinity error: tensor(1.0700)\n"
     ]
    },
    {
     "name": "stderr",
     "output_type": "stream",
     "text": [
      "100%|██████████| 2500/2500 [00:13<00:00, 187.47it/s]\n"
     ]
    },
    {
     "name": "stdout",
     "output_type": "stream",
     "text": [
      "Mean square error: tensor(0.0118)\n",
      "L-infinity error: tensor(0.7114)\n"
     ]
    },
    {
     "name": "stderr",
     "output_type": "stream",
     "text": [
      "100%|██████████| 2500/2500 [00:13<00:00, 181.69it/s]\n"
     ]
    },
    {
     "name": "stdout",
     "output_type": "stream",
     "text": [
      "Mean square error: tensor(0.0065)\n",
      "L-infinity error: tensor(0.4646)\n"
     ]
    },
    {
     "name": "stderr",
     "output_type": "stream",
     "text": [
      "100%|██████████| 2500/2500 [00:13<00:00, 180.82it/s]\n"
     ]
    },
    {
     "name": "stdout",
     "output_type": "stream",
     "text": [
      "Mean square error: tensor(0.1129)\n",
      "L-infinity error: tensor(1.9731)\n"
     ]
    },
    {
     "name": "stderr",
     "output_type": "stream",
     "text": [
      "100%|██████████| 2500/2500 [00:14<00:00, 172.07it/s]\n"
     ]
    },
    {
     "name": "stdout",
     "output_type": "stream",
     "text": [
      "Mean square error: tensor(0.0701)\n",
      "L-infinity error: tensor(1.7088)\n"
     ]
    },
    {
     "name": "stderr",
     "output_type": "stream",
     "text": [
      "100%|██████████| 2500/2500 [00:13<00:00, 181.82it/s]\n"
     ]
    },
    {
     "name": "stdout",
     "output_type": "stream",
     "text": [
      "Mean square error: tensor(0.0208)\n",
      "L-infinity error: tensor(1.0647)\n"
     ]
    },
    {
     "name": "stderr",
     "output_type": "stream",
     "text": [
      "100%|██████████| 2500/2500 [00:13<00:00, 181.53it/s]\n"
     ]
    },
    {
     "name": "stdout",
     "output_type": "stream",
     "text": [
      "Mean square error: tensor(0.0087)\n",
      "L-infinity error: tensor(0.6981)\n"
     ]
    },
    {
     "name": "stderr",
     "output_type": "stream",
     "text": [
      "100%|██████████| 2500/2500 [00:14<00:00, 177.96it/s]\n"
     ]
    },
    {
     "name": "stdout",
     "output_type": "stream",
     "text": [
      "Mean square error: tensor(0.0061)\n",
      "L-infinity error: tensor(0.4708)\n"
     ]
    },
    {
     "name": "stderr",
     "output_type": "stream",
     "text": [
      "100%|██████████| 2500/2500 [00:13<00:00, 186.42it/s]\n"
     ]
    },
    {
     "name": "stdout",
     "output_type": "stream",
     "text": [
      "Mean square error: tensor(0.1139)\n",
      "L-infinity error: tensor(1.9717)\n"
     ]
    },
    {
     "name": "stderr",
     "output_type": "stream",
     "text": [
      "100%|██████████| 2500/2500 [00:12<00:00, 195.26it/s]\n"
     ]
    },
    {
     "name": "stdout",
     "output_type": "stream",
     "text": [
      "Mean square error: tensor(0.0707)\n",
      "L-infinity error: tensor(1.7030)\n"
     ]
    },
    {
     "name": "stderr",
     "output_type": "stream",
     "text": [
      "100%|██████████| 2500/2500 [00:19<00:00, 128.26it/s]\n"
     ]
    },
    {
     "name": "stdout",
     "output_type": "stream",
     "text": [
      "Mean square error: tensor(0.0189)\n",
      "L-infinity error: tensor(1.0549)\n"
     ]
    },
    {
     "name": "stderr",
     "output_type": "stream",
     "text": [
      "100%|██████████| 2500/2500 [00:24<00:00, 101.20it/s]\n"
     ]
    },
    {
     "name": "stdout",
     "output_type": "stream",
     "text": [
      "Mean square error: tensor(0.0078)\n",
      "L-infinity error: tensor(0.6874)\n"
     ]
    },
    {
     "name": "stderr",
     "output_type": "stream",
     "text": [
      "100%|██████████| 2500/2500 [00:24<00:00, 104.04it/s]\n"
     ]
    },
    {
     "name": "stdout",
     "output_type": "stream",
     "text": [
      "Mean square error: tensor(0.0044)\n",
      "L-infinity error: tensor(0.4506)\n"
     ]
    },
    {
     "name": "stderr",
     "output_type": "stream",
     "text": [
      "100%|██████████| 2500/2500 [00:23<00:00, 105.33it/s]\n"
     ]
    },
    {
     "name": "stdout",
     "output_type": "stream",
     "text": [
      "Mean square error: tensor(0.1147)\n",
      "L-infinity error: tensor(1.9776)\n"
     ]
    },
    {
     "name": "stderr",
     "output_type": "stream",
     "text": [
      "100%|██████████| 2500/2500 [00:24<00:00, 102.11it/s]\n"
     ]
    },
    {
     "name": "stdout",
     "output_type": "stream",
     "text": [
      "Mean square error: tensor(0.0695)\n",
      "L-infinity error: tensor(1.7123)\n"
     ]
    },
    {
     "name": "stderr",
     "output_type": "stream",
     "text": [
      "100%|██████████| 2500/2500 [00:24<00:00, 100.33it/s]\n"
     ]
    },
    {
     "name": "stdout",
     "output_type": "stream",
     "text": [
      "Mean square error: tensor(0.0190)\n",
      "L-infinity error: tensor(1.0565)\n"
     ]
    },
    {
     "name": "stderr",
     "output_type": "stream",
     "text": [
      "100%|██████████| 2500/2500 [00:25<00:00, 99.62it/s] \n"
     ]
    },
    {
     "name": "stdout",
     "output_type": "stream",
     "text": [
      "Mean square error: tensor(0.0086)\n",
      "L-infinity error: tensor(0.6927)\n"
     ]
    },
    {
     "name": "stderr",
     "output_type": "stream",
     "text": [
      "100%|██████████| 2500/2500 [00:26<00:00, 94.00it/s] \n"
     ]
    },
    {
     "name": "stdout",
     "output_type": "stream",
     "text": [
      "Mean square error: tensor(0.0045)\n",
      "L-infinity error: tensor(0.4518)\n"
     ]
    },
    {
     "name": "stderr",
     "output_type": "stream",
     "text": [
      "100%|██████████| 2500/2500 [00:28<00:00, 88.53it/s] \n"
     ]
    },
    {
     "name": "stdout",
     "output_type": "stream",
     "text": [
      "Mean square error: tensor(0.1153)\n",
      "L-infinity error: tensor(1.9827)\n"
     ]
    },
    {
     "name": "stderr",
     "output_type": "stream",
     "text": [
      "100%|██████████| 2500/2500 [00:27<00:00, 90.91it/s] \n"
     ]
    },
    {
     "name": "stdout",
     "output_type": "stream",
     "text": [
      "Mean square error: tensor(0.0710)\n",
      "L-infinity error: tensor(1.7134)\n"
     ]
    },
    {
     "name": "stderr",
     "output_type": "stream",
     "text": [
      "100%|██████████| 2500/2500 [00:24<00:00, 103.35it/s]\n"
     ]
    },
    {
     "name": "stdout",
     "output_type": "stream",
     "text": [
      "Mean square error: tensor(0.0231)\n",
      "L-infinity error: tensor(1.0699)\n"
     ]
    },
    {
     "name": "stderr",
     "output_type": "stream",
     "text": [
      "100%|██████████| 2500/2500 [00:25<00:00, 97.09it/s] \n"
     ]
    },
    {
     "name": "stdout",
     "output_type": "stream",
     "text": [
      "Mean square error: tensor(0.0103)\n",
      "L-infinity error: tensor(0.7040)\n"
     ]
    },
    {
     "name": "stderr",
     "output_type": "stream",
     "text": [
      "100%|██████████| 2500/2500 [00:23<00:00, 104.84it/s]\n"
     ]
    },
    {
     "name": "stdout",
     "output_type": "stream",
     "text": [
      "Mean square error: tensor(0.0069)\n",
      "L-infinity error: tensor(0.4626)\n"
     ]
    },
    {
     "name": "stderr",
     "output_type": "stream",
     "text": [
      "100%|██████████| 2500/2500 [00:25<00:00, 98.84it/s] \n"
     ]
    },
    {
     "name": "stdout",
     "output_type": "stream",
     "text": [
      "Mean square error: tensor(0.1121)\n",
      "L-infinity error: tensor(1.9759)\n"
     ]
    },
    {
     "name": "stderr",
     "output_type": "stream",
     "text": [
      "100%|██████████| 2500/2500 [00:23<00:00, 107.93it/s]\n"
     ]
    },
    {
     "name": "stdout",
     "output_type": "stream",
     "text": [
      "Mean square error: tensor(0.0687)\n",
      "L-infinity error: tensor(1.7047)\n"
     ]
    },
    {
     "name": "stderr",
     "output_type": "stream",
     "text": [
      "100%|██████████| 2500/2500 [00:23<00:00, 105.64it/s]\n"
     ]
    },
    {
     "name": "stdout",
     "output_type": "stream",
     "text": [
      "Mean square error: tensor(0.0202)\n",
      "L-infinity error: tensor(1.0581)\n"
     ]
    },
    {
     "name": "stderr",
     "output_type": "stream",
     "text": [
      "100%|██████████| 2500/2500 [00:22<00:00, 111.37it/s]\n"
     ]
    },
    {
     "name": "stdout",
     "output_type": "stream",
     "text": [
      "Mean square error: tensor(0.0089)\n",
      "L-infinity error: tensor(0.6996)\n"
     ]
    },
    {
     "name": "stderr",
     "output_type": "stream",
     "text": [
      "100%|██████████| 2500/2500 [00:24<00:00, 103.38it/s]\n"
     ]
    },
    {
     "name": "stdout",
     "output_type": "stream",
     "text": [
      "Mean square error: tensor(0.0054)\n",
      "L-infinity error: tensor(0.4576)\n"
     ]
    }
   ],
   "source": [
    "MSE_history3 = torch.zeros([n_experiments, rounds])\n",
    "L_inf_error_history3 = torch.zeros([n_experiments, rounds]) \n",
    "\n",
    "training_error_history3 = torch.zeros([n_experiments, rounds])\n",
    "test_error_history3 = torch.zeros([n_experiments, rounds])\n",
    "\n",
    "test_error_history3_max = torch.zeros([n_experiments, rounds])\n",
    "\n",
    "from Training.training import train\n",
    "\n",
    "training_params['n_coloc_points'] = 300\n",
    "training_params['n_boundary_points'] = 50\n",
    "n_ite = 2500\n",
    "training_params['num_iterations'] = n_ite\n",
    "\n",
    "for j in range(n_experiments):\n",
    "    # We initialise the NN\n",
    "    NN3 = FCFF_3L([dim,30,30])\n",
    "    training_params['optimizer'] = optim.SGD(NN3.parameters(), lr = .01, momentum = .2)\n",
    "\n",
    "    \n",
    "    for i in range(rounds):\n",
    "    \n",
    "        training_params['alpha'] = alpha_list[i]\n",
    "        training_params['delta'] = delta_list[i]\n",
    "\n",
    "        total_loss, PDE_loss, boundary_loss = train(NN3, domain, training_params)\n",
    "\n",
    "        MC_points = int(1e5) # Number of grid points for comparison with the ground truth\n",
    "        MSE, L_inf = error_ball(NN3, max(radii), MC_points, display = False)\n",
    "        \n",
    "        with torch.no_grad():\n",
    "            #training_error = FD_loss(NN2, training_data_int, training_params)\n",
    "            test_error = FD_loss(NN3, test_data, training_params)\n",
    "        \n",
    "        training_error_history3[j,i] = PDE_loss[-1]\n",
    "        test_error_history3[j,i] = test_error.mean()\n",
    "        test_error_history3_max[j,i] = test_error.max().item()\n",
    "        \n",
    "        MSE_history3[j,i] = MSE\n",
    "        L_inf_error_history3[j,i] = L_inf\n",
    "        \n",
    "        print('Mean square error:', MSE)\n",
    "        print('L-infinity error:', L_inf)"
   ]
  },
  {
   "cell_type": "code",
   "execution_count": 7,
   "metadata": {},
   "outputs": [
    {
     "data": {
      "image/png": "[encoded data removed]",
      "text/plain": [
       "<Figure size 640x480 with 1 Axes>"
      ]
     },
     "metadata": {},
     "output_type": "display_data"
    },
    {
     "data": {
      "image/png": "[encoded data removed]",
      "text/plain": [
       "<Figure size 640x480 with 1 Axes>"
      ]
     },
     "metadata": {},
     "output_type": "display_data"
    },
    {
     "data": {
      "image/png": "[encoded data removed]",
      "text/plain": [
       "<Figure size 640x480 with 1 Axes>"
      ]
     },
     "metadata": {},
     "output_type": "display_data"
    }
   ],
   "source": [
    "plt.plot(np.arange(rounds) , training_error_history3.mean(0))\n",
    "plt.fill_between(np.arange(rounds) , \n",
    "                 training_error_history3.mean(0) - training_error_history3.std(0), \n",
    "                training_error_history3.mean(0) + training_error_history3.std(0), alpha=0.4)\n",
    "\n",
    "plt.plot(np.arange(rounds) , test_error_history3.mean(0))\n",
    "plt.fill_between(np.arange(rounds), \n",
    "                test_error_history3.mean(0) - test_error_history3.std(0),\n",
    "                test_error_history3.mean(0) + test_error_history3.std(0), alpha = 0.4)\n",
    "\n",
    "plt.legend(labels = ['Training FD loss', 'Test FD loss'])\n",
    "plt.xticks([i for i in range(rounds)], [i+1 for i in range(rounds)])\n",
    "plt.title('FD loss')\n",
    "plt.show()\n",
    "\n",
    "plt.plot(np.arange(rounds) , test_error_history3_max.mean(0))\n",
    "plt.fill_between(np.arange(rounds),\n",
    "                test_error_history3_max.mean(0) - test_error_history3_max.std(0),\n",
    "                test_error_history3_max.mean(0) + test_error_history3_max.std(0),\n",
    "                alpha = .4)\n",
    "plt.legend(labels = ['Test FD loss'])\n",
    "plt.xticks([i for i in range(rounds)], [i+1 for i in range(rounds)])\n",
    "plt.title('max of FD loss')\n",
    "plt.show()\n",
    "\n",
    "plt.plot(np.arange(rounds), L_inf_error_history3.mean(0))\n",
    "plt.fill_between(np.arange(rounds),\n",
    "                L_inf_error_history3.mean(0) - L_inf_error_history3.std(0),\n",
    "                L_inf_error_history3.mean(0) + L_inf_error_history3.std(0),\n",
    "                alpha = .4)\n",
    "\n",
    "plt.ylim(0, L_inf_error_history3.max().item()+0.1)\n",
    "plt.xticks([i for i in range(rounds)], [i+1 for i in range(rounds)])\n",
    "plt.title('L-inf error w.r.t. ground truth')\n",
    "plt.show()"
   ]
  },
  {
   "cell_type": "code",
   "execution_count": 8,
   "metadata": {},
   "outputs": [
    {
     "name": "stderr",
     "output_type": "stream",
     "text": [
      "<>:78: SyntaxWarning: invalid escape sequence '\\l'\n",
      "<>:105: SyntaxWarning: invalid escape sequence '\\l'\n",
      "<>:78: SyntaxWarning: invalid escape sequence '\\l'\n",
      "<>:105: SyntaxWarning: invalid escape sequence '\\l'\n",
      "C:\\Users\\usuario\\AppData\\Local\\Temp\\ipykernel_24892\\1440510797.py:78: SyntaxWarning: invalid escape sequence '\\l'\n",
      "  plt.title('$\\log_{10} (MSE)$', fontsize = 'xx-large')\n",
      "C:\\Users\\usuario\\AppData\\Local\\Temp\\ipykernel_24892\\1440510797.py:105: SyntaxWarning: invalid escape sequence '\\l'\n",
      "  plt.title('$\\log_{10} (E_{\\infty})$', fontsize = 'xx-large')\n"
     ]
    },
    {
     "data": {
      "image/png": "[encoded data removed]",
      "text/plain": [
       "<Figure size 640x480 with 1 Axes>"
      ]
     },
     "metadata": {},
     "output_type": "display_data"
    },
    {
     "data": {
      "image/png": "[encoded data removed]",
      "text/plain": [
       "<Figure size 640x480 with 1 Axes>"
      ]
     },
     "metadata": {},
     "output_type": "display_data"
    },
    {
     "data": {
      "image/png": "[encoded data removed]",
      "text/plain": [
       "<Figure size 640x480 with 1 Axes>"
      ]
     },
     "metadata": {},
     "output_type": "display_data"
    },
    {
     "data": {
      "image/png": "[encoded data removed]",
      "text/plain": [
       "<Figure size 640x480 with 1 Axes>"
      ]
     },
     "metadata": {},
     "output_type": "display_data"
    }
   ],
   "source": [
    "plt.plot(np.arange(rounds) , test_error_history1.mean(0))\n",
    "plt.plot(np.arange(rounds) , test_error_history2.mean(0))\n",
    "plt.plot(np.arange(rounds) , test_error_history3.mean(0))\n",
    "\n",
    "plt.fill_between(np.arange(rounds), \n",
    "                test_error_history1.mean(0) - test_error_history1.std(0),\n",
    "                test_error_history1.mean(0) + test_error_history1.std(0), alpha = 0.4)\n",
    "\n",
    "plt.fill_between(np.arange(rounds), \n",
    "                test_error_history2.mean(0) - test_error_history2.std(0),\n",
    "                test_error_history2.mean(0) + test_error_history2.std(0), alpha = 0.4)\n",
    "\n",
    "plt.fill_between(np.arange(rounds), \n",
    "                test_error_history3.mean(0) - test_error_history3.std(0),\n",
    "                test_error_history3.mean(0) + test_error_history3.std(0), alpha = 0.4)\n",
    "\n",
    "plt.legend(labels = ['$N_0 = 200$', '$N_0 = 400$', 'Re-sampling'], fontsize=14)\n",
    "plt.xticks([i for i in range(rounds)], [ delta_list[i] for i in range(rounds)])\n",
    "\n",
    "plt.xticks(fontsize=14)\n",
    "plt.yticks(fontsize=14)\n",
    "plt.title('Mean square F.D. residual', fontsize = 'xx-large')\n",
    "plt.show()\n",
    "\n",
    "\n",
    "plt.plot(np.arange(rounds) , test_error_history1_max.mean(0))\n",
    "plt.plot(np.arange(rounds) , test_error_history2_max.mean(0))\n",
    "plt.plot(np.arange(rounds) , test_error_history3_max.mean(0))\n",
    "\n",
    "plt.fill_between(np.arange(rounds),\n",
    "                test_error_history1_max.mean(0) - test_error_history1_max.std(0),\n",
    "                test_error_history1_max.mean(0) + test_error_history1_max.std(0),\n",
    "                alpha = .4)\n",
    "\n",
    "plt.fill_between(np.arange(rounds),\n",
    "                test_error_history2_max.mean(0) - test_error_history2_max.std(0),\n",
    "                test_error_history2_max.mean(0) + test_error_history2_max.std(0),\n",
    "                alpha = .4)\n",
    "\n",
    "plt.fill_between(np.arange(rounds),\n",
    "                test_error_history3_max.mean(0) - test_error_history3_max.std(0),\n",
    "                test_error_history3_max.mean(0) + test_error_history3_max.std(0),\n",
    "                alpha = .4)\n",
    "\n",
    "#plt.legend(labels = ['$N_0 = 80$', '$N_0 = 160$', 'Re-sampling'], fontsize=14)\n",
    "plt.xticks([i for i in range(rounds)], [ delta_list[i] for i in range(rounds)])\n",
    "\n",
    "plt.xticks(fontsize=14)\n",
    "plt.yticks(fontsize=14)\n",
    "plt.title('Maximum of the F.D. residual', fontsize = 'xx-large')\n",
    "plt.show()\n",
    "\n",
    "\n",
    "plt.plot(np.arange(rounds), MSE_history1.mean(0).log10())\n",
    "plt.plot(np.arange(rounds), MSE_history2.mean(0).log10())\n",
    "plt.plot(np.arange(rounds), MSE_history3.mean(0).log10())\n",
    "\n",
    "plt.fill_between(np.arange(rounds),\n",
    "                (MSE_history1.mean(0) - MSE_history1.std(0)).log10(),\n",
    "                (MSE_history1.mean(0) + MSE_history1.std(0)).log10(),\n",
    "                alpha = .4)\n",
    "\n",
    "plt.fill_between(np.arange(rounds),\n",
    "                (MSE_history2.mean(0) - MSE_history2.std(0)).log10(),\n",
    "                (MSE_history2.mean(0) + MSE_history2.std(0)).log10(),\n",
    "                alpha = .4)\n",
    "\n",
    "plt.fill_between(np.arange(rounds),\n",
    "                (MSE_history3.mean(0) - MSE_history3.std(0)).log10(),\n",
    "                (MSE_history3.mean(0) + MSE_history3.std(0)).log10(),\n",
    "                alpha = .4)\n",
    "\n",
    "plt.legend(labels = ['$N_0 = 200$', '$N_0 = 400$', 'Re-sampling'], fontsize=14)\n",
    "plt.xticks([i for i in range(rounds)], [ delta_list[i] for i in range(rounds)])\n",
    "\n",
    "plt.xticks(fontsize=14)\n",
    "plt.yticks(fontsize=14)\n",
    "plt.title('$\\log_{10} (MSE)$', fontsize = 'xx-large')\n",
    "plt.show()\n",
    "\n",
    "\n",
    "plt.plot(np.arange(rounds), L_inf_error_history1.mean(0).log10())\n",
    "plt.fill_between(np.arange(rounds),\n",
    "                (L_inf_error_history1.mean(0) - L_inf_error_history1.std(0)).log10(),\n",
    "                (L_inf_error_history1.mean(0) + L_inf_error_history1.std(0)).log10(),\n",
    "                alpha = .4)\n",
    "\n",
    "plt.plot(np.arange(rounds), L_inf_error_history2.mean(0).log10())\n",
    "plt.fill_between(np.arange(rounds),\n",
    "                (L_inf_error_history2.mean(0) - L_inf_error_history2.std(0)).log10(),\n",
    "                (L_inf_error_history2.mean(0) + L_inf_error_history2.std(0)).log10(),\n",
    "                alpha = .4)\n",
    "\n",
    "plt.plot(np.arange(rounds), L_inf_error_history3.mean(0).log10())\n",
    "plt.fill_between(np.arange(rounds),\n",
    "                (L_inf_error_history3.mean(0) - L_inf_error_history3.std(0)).log10(),\n",
    "                (L_inf_error_history3.mean(0) + L_inf_error_history3.std(0)).log10(),\n",
    "                alpha = .4)\n",
    "\n",
    "#plt.legend(labels = ['$N_0 = 80$', '$N_0 = 160$', 'Re-sampling'], fontsize=14)\n",
    "plt.xticks([i for i in range(rounds)], [ delta_list[i] for i in range(rounds)])\n",
    "\n",
    "plt.xticks(fontsize=14)\n",
    "plt.yticks(fontsize=14)\n",
    "plt.title('$\\log_{10} (E_{\\infty})$', fontsize = 'xx-large')\n",
    "plt.show()"
   ]
  },
  {
   "cell_type": "code",
   "execution_count": null,
   "metadata": {},
   "outputs": [],
   "source": []
  }
 ],
 "metadata": {
  "kernelspec": {
   "display_name": "Python 3 (ipykernel)",
   "language": "python",
   "name": "python3"
  },
  "language_info": {
   "codemirror_mode": {
    "name": "ipython",
    "version": 3
   },
   "file_extension": ".py",
   "mimetype": "text/x-python",
   "name": "python",
   "nbconvert_exporter": "python",
   "pygments_lexer": "ipython3",
   "version": "3.12.7"
  }
 },
 "nbformat": 4,
 "nbformat_minor": 4
}

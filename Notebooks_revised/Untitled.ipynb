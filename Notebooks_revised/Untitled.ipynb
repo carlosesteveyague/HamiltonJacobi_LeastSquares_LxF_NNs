{
 "cells": [
  {
   "cell_type": "code",
   "execution_count": null,
   "metadata": {},
   "outputs": [],
   "source": [
    "import numpy as np\n",
    "import torch.optim as optim\n",
    "import matplotlib.pyplot as plt\n",
    "import torch\n",
    "import sys\n",
    "# setting path \n",
    "sys.path.append('../')\n",
    "from NeuralNetworks.NNs import FCFF_3L\n",
    "from PointSampling.Cube import data_gen_cube, get_unif_grid\n",
    "from visualization.plots_cube import plot_2d_proj, plot_level_set_cube \n",
    "from visualization.cube_training import plot_2d_proj_w\n",
    "from Hamiltonians.Eikonal_LxF import Eikonal_sq_LF_multiD \n",
    "from Training.training_finite_sum import train_finite_sum\n",
    "from error_test.cube_error import error_cube, FD_loss\n",
    "\n",
    "dim = 2\n",
    "\n",
    "\n",
    "side_length = 6.\n",
    "\n",
    "domain = data_gen_cube(side_length, dim)\n",
    "\n",
    "#Right-hand-side of the PDE\n",
    "def f(X): return 1\n",
    "\n",
    "#Boundary condition\n",
    "def g(X): return 0\n",
    "\n",
    "delta_list = [.75, .3, .1, .05, .01]\n",
    "alpha_list = [2., 2., 2., 2., 2.]\n",
    "rounds = len(delta_list)\n",
    "training_params = {\n",
    "    'numerical_scheme': Eikonal_sq_LF_multiD,\n",
    "    \n",
    "    'f': f, \n",
    "    'g': g, \n",
    "    'c': None,\n",
    "    \n",
    "    'beta': 0., ## parameter for the +u_i term \n",
    "    \n",
    "    'lambda': 1. #weight parameter for the boundary loss\n",
    "}\n",
    "\n",
    "test_data_int, test_data_bound = get_unif_grid(side_length, dim, 1e6)"
   ]
  }
 ],
 "metadata": {
  "kernelspec": {
   "display_name": "Python 3",
   "language": "python",
   "name": "python3"
  },
  "language_info": {
   "codemirror_mode": {
    "name": "ipython",
    "version": 3
   },
   "file_extension": ".py",
   "mimetype": "text/x-python",
   "name": "python",
   "nbconvert_exporter": "python",
   "pygments_lexer": "ipython3",
   "version": "3.8.5"
  }
 },
 "nbformat": 4,
 "nbformat_minor": 4
}

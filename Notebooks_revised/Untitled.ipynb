{
 "cells": [
  {
   "cell_type": "code",
   "execution_count": null,
   "id": "6f97d81f-15e0-41b2-9e29-31f2506ccf6b",
   "metadata": {},
   "outputs": [],
   "source": []
  }
 ],
 "metadata": {
  "kernelspec": {
   "display_name": "",
   "name": ""
  },
  "language_info": {
   "name": ""
  }
 },
 "nbformat": 4,
 "nbformat_minor": 5
}
